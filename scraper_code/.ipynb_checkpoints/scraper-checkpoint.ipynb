{
 "cells": [
  {
   "cell_type": "code",
   "execution_count": 1,
   "metadata": {},
   "outputs": [],
   "source": [
    "from bs4 import BeautifulSoup\n",
    "from selenium import webdriver \n",
    "from selenium.webdriver.chrome.options import Options\n",
    "from webdriver_manager.chrome import ChromeDriverManager\n",
    "import re \n",
    "import urllib\n",
    "import time"
   ]
  },
  {
   "cell_type": "code",
   "execution_count": 2,
   "metadata": {},
   "outputs": [
    {
     "name": "stderr",
     "output_type": "stream",
     "text": [
      "[WDM] - Current google-chrome version is 83.0.4103\n",
      "[WDM] - Get LATEST driver version for 83.0.4103\n"
     ]
    },
    {
     "name": "stdout",
     "output_type": "stream",
     "text": [
      " \n"
     ]
    },
    {
     "name": "stderr",
     "output_type": "stream",
     "text": [
      "[WDM] - Get LATEST driver version for 83.0.4103\n",
      "[WDM] - Trying to download new driver from http://chromedriver.storage.googleapis.com/83.0.4103.39/chromedriver_win32.zip\n",
      "[WDM] - Driver has been saved in cache [C:\\Users\\knimashakavi\\.wdm\\drivers\\chromedriver\\win32\\83.0.4103.39]\n"
     ]
    }
   ],
   "source": [
    "#create a webdriver object and set options for headless browsing\n",
    "options = Options()\n",
    "options.headless = True\n",
    "driver = webdriver.Chrome(ChromeDriverManager().install())"
   ]
  },
  {
   "cell_type": "code",
   "execution_count": 3,
   "metadata": {},
   "outputs": [],
   "source": [
    "#uses webdriver object to execute javascript code and get dynamically loaded webcontent\n",
    "def get_js_soup(url,driver):\n",
    "    driver.get(url)\n",
    "    res_html = driver.execute_script('return document.body.innerHTML')\n",
    "    soup = BeautifulSoup(res_html,'html.parser') #beautiful soup object to be used for parsing html content\n",
    "    return soup\n",
    "\n",
    "#tidies extracted text \n",
    "def process_bio(bio):\n",
    "    bio = bio.encode('ascii',errors='ignore').decode('utf-8')       #removes non-ascii characters\n",
    "    bio = re.sub('\\s+',' ',bio)       #repalces repeated whitespace characters with single space\n",
    "    return bio\n",
    "def remove_script(soup):\n",
    "    for script in soup([\"script\", \"style\"]):\n",
    "        script.decompose()\n",
    "    return soup\n",
    "\n",
    "\n",
    "#Checks if bio_url is a valid faculty homepage\n",
    "def is_valid_homepage(bio_url,dir_url):\n",
    "    if bio_url.endswith('.pdf'): #we're not parsing pdfs\n",
    "        return False\n",
    "    try:\n",
    "        #sometimes the homepage url points to the same page as the faculty profile page\n",
    "        #which should be treated differently from an actual homepage\n",
    "        ret_url = urllib.request.urlopen(bio_url).geturl() \n",
    "    except:\n",
    "        return False       #unable to access bio_url\n",
    "    urls = [re.sub('((https?://)|(www.))','',url) for url in [ret_url,dir_url]] #removes url scheme (https,http or www) \n",
    "    return not(urls[0]== urls[1])"
   ]
  },
  {
   "cell_type": "code",
   "execution_count": 4,
   "metadata": {},
   "outputs": [],
   "source": [
    "#extracts all Faculty Profile page urls from the Directory Listing Page\n",
    "def scrape_dir_page(dir_url,driver):\n",
    "    print ('-'*20,'Scraping directory page','-'*20)\n",
    "    faculty_links = []\n",
    "    faculty_base_url = 'https://cbn.rutgers.edu'\n",
    "    #execute js on webpage to load faculty listings on webpage and get ready to parse the loaded HTML \n",
    "    soup = get_js_soup(dir_url,driver) \n",
    "    table = soup.find_all('table')[0] # Grab the first table\n",
    "    #print (table)\n",
    "    #print (soup)\n",
    "    for link_holder in soup.find_all('div',class_='cbUserListFieldLine cbUserListFL_formatname'): #get list of all <div> of class 'name'\n",
    "        rel_link = link_holder.find('a')['href'] #get url\n",
    "       # print(rel_link)\n",
    "        #url returned is relative, so we need to add base url\n",
    "        faculty_links.append(rel_link)\n",
    "    print ('-'*20,'Found {} faculty profile urls'.format(len(faculty_links)),'-'*20)\n",
    "    return faculty_links"
   ]
  },
  {
   "cell_type": "code",
   "execution_count": 5,
   "metadata": {},
   "outputs": [
    {
     "name": "stdout",
     "output_type": "stream",
     "text": [
      "-------------------- Scraping directory page --------------------\n",
      "-------------------- Found 31 faculty profile urls --------------------\n"
     ]
    }
   ],
   "source": [
    "dir_url = 'https://cbn.rutgers.edu/people/faculty' #url of directory listings of CS faculty\n",
    "faculty_links = scrape_dir_page(dir_url,driver)"
   ]
  },
  {
   "cell_type": "code",
   "execution_count": 6,
   "metadata": {},
   "outputs": [],
   "source": [
    "def scrape_faculty_page(fac_url,driver):\n",
    "    soup = get_js_soup(fac_url,driver)\n",
    "    homepage_found = False\n",
    "    bio_url = ''\n",
    "    bio = ''\n",
    "    for link_holder in soup.find_all('div',class_='cb_field'):\n",
    "        #print (link_holder)\n",
    "        try:\n",
    "            bio_url = link_holder.find('a')['href']\n",
    "            if (bio_url.startswith('http')):\n",
    "                #print (bio_url)\n",
    "                homepage_found = True\n",
    "                try:\n",
    "                    bio_soup = remove_script(get_js_soup(bio_url,driver))\n",
    "                    break\n",
    "                except:\n",
    "                    print ('Could not access {}'.format(bio_url))\n",
    "                    bio_url=None\n",
    "                    homepage_found = False\n",
    "            else:\n",
    "                homepage_found = False\n",
    "            \n",
    "        except:\n",
    "            continue\n",
    "    if homepage_found:\n",
    "        #get all the text from homepage(bio)\n",
    "        bio = process_bio(bio_soup.get_text(separator=' '))\n",
    "        #print (bio_url)\n",
    "        #print(bio)        \n",
    "    print(bio_url)\n",
    "    print(bio)\n",
    "    return bio_url,bio"
   ]
  },
  {
   "cell_type": "code",
   "execution_count": null,
   "metadata": {},
   "outputs": [
    {
     "name": "stdout",
     "output_type": "stream",
     "text": [
      "-------------------- Scraping faculty url 1/31 --------------------\n",
      "http://www.abrairalab.org\n",
      " ABRAIRA LAB Home Research Funding People Publications Contact Us Openings Useful Links News Member Access more... Central Support Team Post Docs Graduate Students Undergraduate Interns Publications Contact Us Openings Useful Links News Member Access WIRED FOR TOUCH what we study Our tactile world is rich, if not infinite . The flutter of an insects wings a warm breeze raindrops and a mothers gentle caress all impose mechanical forces upon our skin and yet we encounter no difficulty in telling them apart and react differently to each. How do we recognize and interpret the myriad of tactile stimuli to perceive the richness of the physical world? Our lab utilizes the power of mouse molecular genetics to understand our sense of touch , from pain to pleasure and everything in between. THE NEURONS AND CIRCUITS OF THE SOMATOSENSORY SYSTEM Research Learn More People Meet Us Publications Read Our Work Touch in motion: capturing an interpretive neuronal myriad. About Us Abraira Lab is a collaborative neuroscientific endeavor to understand the somatosensory framework of touch. Our lab operates within the W.M. Keck Center of Collaborative Neuroscience at Rutgers, the State University of New Jersey . We are open to interested post-doctoral, graduate, and undergraduate researchers willing to explore the body's largest perceptive sense. Home Research Funding People Central Support Team Post Docs Graduate Students Undergraduate Interns Publications Contact Us Openings Useful Links News Member Access \n",
      "-------------------- Scraping faculty url 2/31 --------------------\n",
      "https://cbn.rutgers.edu/joanna-burger-home\n",
      " Rutgers Home School of Arts and Sciences Search Rutgers Division of Life Sciences Search ... Search ... Department of Cell Biology and Neuroscience Department of Cell Biology and Neuroscience Joanna Burger Joanna Burger Rutgers SAS Navigation Home Projects Projects Miscellaneous Publications Books Teaching: Behavior Biology People in Her Lab Affiliations Print Media Services Joanna Burger is a behavioral ecologist whose primary interests are in the adaptive significance of social behavior in vertebrates, ecological risk, and biomonitoring. In the area of social behavior she works mainly with marine and coastal birds, including the effects of people and chemicals on reproductive success and ecology of colonial species. Her work on reptiles involves examining hibernation behavior and behavior influenced by incubation temperature, including locomotion, anti-predator behavior, foraging, and over-wintering. For several years she has been examining patterns of heavy metal distribution worldwide, using avian and eggs feathers as indicators. This ongoing work involves examining the effects of low level lead, chromium and manganese exposure (similar to what children get when they eat lead paint) on behavior development of Herring Gulls, both in the field and in the laboratory. Her work with ecological risk assessment has included many different species and habitats. Some of her work involves using the Department of Energy as a case study to examine ecological health, ecological risk, and species protection. She is currently working at the Department of Energy's sites, including Hanford, Los Alamos, Idaho National Laboratory, Brookhaven, Amchitka and the Savannah River Site , developing ecological risk methodologies. She has served on several National Research Council Committees, the U.S. National SCOPE Committee, the National Academy of Sciences Committee on Endocrine Disruptors, and has participated in several international SCOPE committees on ecological risk, mercury, and hazardous wastes. She is a fellow of the American Association for the Advancement of Science , the American Ornithologist's Union , and of the International Union of Pure and Applied Chemistry . She holds an honorary PhD from the University of Alaska at Fairbanks. She has received the Distinguished Achievement from the Society of Risk Analysis and the Brewster Medal from the American Ornithologist Union . Rutgers University 604 Allison Road Piscataway, NJ 088548082 Tel: (732) 4454318 Fax: (732) 4455870 Email: Burger@Biology.Rutgers.Edu Connect with Rutgers SAS Events Explore SAS Departments & Degree-Granting Programs Quick Links WM Keck Center for Collaborative Neuroscience Rutgers Stem Cell Research Center Department of Genetics Department of Molecular Biology and Biochemistry RUCDR Division of Life Sciences Social Media Facebook Contact Us Nelson Biology Labs 604 Allison Road Piscataway, NJ 08854-8082 (848) 445-3471 Email CBN . Home Site Map Search Site Feedback Login Back to Top Copyright 2020, Rutgers, The State University of New Jersey. All rights reserved. Rutgers is an equal access/equal opportunity institution. Individuals with disabilities are encouraged to direct suggestions, comments, or complaints concerning any accessibility issues with Rutgers web sites to: accessibility@rutgers.edu or complete the Report Accessibility Barrier or Provide Feedback Form . \n",
      "-------------------- Scraping faculty url 3/31 --------------------\n",
      "https://www.researchgate.net/profile/Qian_Cai4/publication/319186249_Impaired_Axonal_Retrograde_Trafficking_of_the_Retromer_Complex_Augments_Lysosomal_Deficits_in_Alzheimer%27s_Disease_Neurons/links/59e0c518458515393d4be399/Impaired-Axonal-Retrograde-Trafficking-of-the-Retromer-Complex-Augments-Lysosomal-Deficits-in-Alzheimers-Disease-Neurons.pdf?origin=publication_list\n",
      "\n",
      "-------------------- Scraping faculty url 4/31 --------------------\n",
      "/research/faculty-publications\n",
      "\n",
      "-------------------- Scraping faculty url 5/31 --------------------\n",
      "/research/faculty-publications\n",
      "\n",
      "-------------------- Scraping faculty url 6/31 --------------------\n",
      "https://dai.rutgers.edu/node/2\n",
      " Skip to main content The Dai Lab Home People Research Publications Lab News Resources User login You will be redirected to the secure NetID login page. Log in with NetID You will be redirected to the secure NetID login page. Username * Password * Request new password Log in with NetID Cancel NetID login Home / People People Wei Dai, Ph.D. Assistant Professor wdai@proteomics.rutgers.edu Structural biology of neurodegenerative diseases by cryo-electron tomography Postdoctoral Associates Dr. Xuyuan Kuang Dr. Zhiyong Bai Graduate Students Jennifer Jiang - Institute for Quantitative Biomedicine Kyle Nunn - Cell and Developmental Biology, kdn29@scarletmail.rutgers.edu Undergraduate Students Kevin Huynh - Undergraduate Researcher 2019 - Current Elizabeth Lebendosky - Undergraduate Researcher 2019 -Current Past Members Uttara Hardikar - Undergraduate Researcher 2017-2019; Bristol-Myers Squibb Nikhita Nambiar - Undergraduate Researcher 2017-2019; Hospital Intern Melissa Banal - Undergraduate Researcher 2016-2018; Attending Hackensack Meridian School of Medicine Eric Keller - Undergraduate Researcher 2016-2018; Novartis Paul Castellano - Post Doctoral Researcher 2016-2018; VMLY&R Scientific Associate Ported to Drupal by Drupalizing , a Project of More than (just) Themes . Designed by Zsolt Kacso \n",
      "-------------------- Scraping faculty url 7/31 --------------------\n",
      "https://www.danielslab.net/\n",
      " DANIELS LAB Home Research Publications People News Contact More The Daniels Lab is a new laboratory in the Department of Cell Biology and Neuroscience at Rutgers University. Our lab studies immunological responses in the central nervoussystemusing cell culture and mouse models of viral encephalitis, neurodegeneration, andtraumatic injury. Learn more about our research . Seeselected publications . Our lab is part of a growing and highly collaborative neuroscience community at Rutgers. Meet our current team . Get in touch! Contact us . See our latest news and events . 2020 Brian Daniels. \n",
      "-------------------- Scraping faculty url 8/31 --------------------\n",
      "http://lifesci.rutgers.edu/~rldavis/\n",
      " Rutgers Home New Brunswick School of Arts and Sciences Division of Life Sciences Search ... Search ... Division of Life Sciences Division of Life Sciences Rutgers SAS Navigation Home Academics Biological Sciences Cell Biology and Neuroscience Genetics Kinesiology and Health Molecular Biology and Biochemistry Affiliated Graduate Programs People Faculty & Staff Directory Office of the Dean Staff Directory Centers & Institutes Student Services Shared Resources Support DLS Contact Us Error: 404 - Article not found You may not be able to visit this page because of: an out-of-date bookmark/favourite a search engine that has an out-of-date listing for this site a mistyped address The requested resource was not found. An error has occurred while processing your request. Please see the sitemap below or go back to our Home Page Main Menu Home Academics Affiliated Graduate Programs People Faculty & Staff Directory Office of the Dean Staff Directory Centers & Institutes Student Services Shared Resources Support DLS Contact Us Connect With Rutgers Rutgers Home Rutgers Today myRutgers Academic Calendar Calendar of Events SAS Events Explore SAS Departments and Programs Research Programs, Centers, & Institutes International Programs Majors & Minors Contact Us Division of Life Sciences Busch Campus Nelson Biological Laboratories RoomA107 604 Allison Road Piscataway, NJ, 08854-8000 Home Sitemap Search Site Feedback Login Back to Top Copyright 2020, Rutgers, The State University of New Jersey. All rights reserved. Rutgers is an equal access/equal opportunity institution. Individuals with disabilities are encouraged to direct suggestions, comments, or complaints concerning any accessibility issues with Rutgers web sites to: accessibility@rutgers.edu or complete the Report Accessibility Barrier or Provide Feedback Form . JavaScript is currently disabled. Please enable it for a better experience of Jumi . \n",
      "-------------------- Scraping faculty url 9/31 --------------------\n"
     ]
    },
    {
     "name": "stdout",
     "output_type": "stream",
     "text": [
      "https://sites.rutgers.edu/firesteinlab/\n",
      " Skip to main content Rutgers.edu New Brunswick RBHS Newark Camden Online Rutgers Health Rutgers Search Firestein Laboratory's Facebook Page LinkedIn Page Rutgers University Logo Firestein Laboratory Menu Home About News Archived News Publications Bonfire Program Current Personnel Past laboratory members Contact Open Search Input Homepage Firestein Lab Our research focuses on the role of guanine metabolism in neuronal development and in recovery after injury. My lab identified the postsynaptic density protein-95 (PSD-95) interactor cypin (cytosolic PSD-95 interactor; aka guanine deaminase or GDA), a purine metabolic enzyme, as a core regulator of neuronal development that directly interacts with the cytoskeleton and alter its dynamics. My laboratory studies the role of cypin/GDA in the promotion of recovery after traumatic brain injury and glutamate-induced toxicity. We determined that overexpression of cypin is neuroprotective as is treatment with uric acid but that the two treatments act via distinct mechanisms. Our most recent work work uses our novel tools small molecules that modulate the guanine deaminase activity of cypin to elucidate whether cypin is a target for treatment of patients who have experienced a moderate traumatic brain injury. An additional focus of my laboratory is to guide motoneurons to connect to myotubes using a biocompatible, biodegradable matrix with the goal of promoting regeneration of the neuromuscular (NMJ) circuit after a glutamate-induced toxicity model for SCI. Analysis of changes to neural circuitry We have developed novel analysis programs to detect changes to neural circuitry when damage occurs. We were the first group to report that there are changes to specific strengths of connections in a neural circuit that are damaged by glutamate and that therapies may be targeted to preserve these different connections. We determined this using microelectrode arrays (MEAs), which have only been used by a handful of laboratories. Furthermore, we developed novel noninvasive methods to analyze muscle and neuromuscular junction function in vitro. We were the first group to develop a numerical procedure, using image processing and a pattern recognition algorithm, making it possible to quantify contractile behavior of multiple myotubes simultaneously, based on video data. Our program quantifies contractility on a population level, can be adapted for use in laboratories capable of digital video capture from a microscope, and may be coupled with other experimental techniques to supplement existing research tools. Similar to our analysis of muscle cells, we developed a method to record the activity of individual cell types grown on MEAs. Our laboratory is actively generating novel software for use by other laboratories worldwide. Mechanisms of dendrite branching A major focus of my research is to understand how dendrite patterning is regulated at the molecular level. My group was the first to show that localized microtubule assembly regulates dendrite branching. It was previously thought that microtubules were transported into dendrites to increase growth and branching; however, we found that a protein termed cypin promotes localized microtubule assembly in the dendrite during arborization. Specifically, we found that overexpression of wildtype cypin and not mutant forms of cypin in hippocampal neurons results in an increase in the number of dendrites and dendrite branches and that the suppression of cypin protein expression decreases the number of dendrites and dendrite branches. Cypin binds directly to tubulin heterodimers, thereby promoting microtubule assembly. We found that BDNF regulates cypin at the transcriptional level and we made the important observation that the mechanism underlying BDNF-promoted increases in dendrite number in hippocampal neurons differs from that reported in cortical neurons. Furthermore, we found a novel mechanism by which the small GTPase, RhoA, regulates cypin protein expression, via a translation-dependent mechanism, and by doing so, alters dendrite number. Since RhoA protein expression itself is locally translated, our data suggest that by regulating the expression of cypin, RhoA itself serves to regulate local microtubule assembly. Treatments for traumatic brain injury We have had a longstanding interest in identification of drug targets for the treatment of traumatic brain injury (TBI). We showed that repurposing of lithium may be a viable option for those who have experienced a TBI. Our recent work uses our novel tools small molecules that modulate the guanine deaminase activity of cypin to elucidate whether cypin is a target for treatment of patients who have experienced a moderate traumatic brain injury. This is a novel and promising area of study, and the molecules that we study may be extended to stroke patients and people with neurodegenerative diseases. Identification of therapeutics for spinal cord injury-induced hypersensitivity to pain We recently began studying how cypin regulates sensitivity to pain after spinal cord injury. We have identified a set of small molecule compounds that decrease pain, and in specific, mechanical pain. We use a number of models, including in vitro stretch of spinal cord slices and dissociated cultures and contusion injury, to aid in identification of therapeutics to help those who have suffered a spinal cord injury. Mechanisms underlying pathophysiology of schizophrenia Since we are interested in neurocognitive disorders and their underlying pathophysiology, we study how dysregulation of dendrite patterning, neuron placement, and electrophysiology occur. The major finding of this research is that NOS1AP, a protein with altered expression in brain of patients with schizophrenia, alters dendritogenesis and cortical neuron migration. Previously, Dr. Linda Brzustowicz of the Department of Genetics at Rutgers University identified significant linkage disequilibrium between schizophrenia and markers within the gene encoding nitric oxide synthase 1 (neuronal; NOS1) adaptor protein (NOS1AP; also termed carboxyl-terminal PDZ ligand of nNOS or CAPON). Together with Dr. Brzustowicz, we were the first group to report that expression of NOS1AP is significantly increased at both the mRNA and protein level in the dorsolateral prefrontal cortex of patients with schizophrenia. We also reported that ectopic expression of NOS1AP in rodent neuronal culture and in the animal results in aberrant cortical neuron migration and dendritogenesis, suggesting for the first time that NOS1AP may play a role in the pathophysiology of schizophrenia. Furthermore, we found that D-serine administration affects expression of NOS1AP in a sex-specific manner. Project Links Related Links Bonfire program for counting dendrites Current Personnel News Email: firestein@biology.rutgers.edu Contact Webmaster | Accessibility Copyright 2020, Rutgers, The State University of New Jersey Accessibility Information Rutgers is an equal access/equal opportunity institution. Individuals with disabilities are encouraged to direct suggestions, comments, or complaints concerning any accessibility issues with Rutgers web sites to accessibility@rutgers.edu or complete the Report Accessibility Barrier or Provide Feedback Form . Close Generic selectors Exact matches only Exact matches only Search in title Search in title Search in content Search in content Search in excerpt Search in posts Search in posts Search in pages Search in pages Hidden Hidden Filter by Categories News News More results... \n",
      "-------------------- Scraping faculty url 10/31 --------------------\n",
      "/research/faculty-publications\n",
      "\n",
      "-------------------- Scraping faculty url 11/31 --------------------\n",
      "/research/faculty-publications\n",
      "\n",
      "-------------------- Scraping faculty url 12/31 --------------------\n",
      "/research/faculty-publications\n",
      "\n",
      "-------------------- Scraping faculty url 13/31 --------------------\n",
      "http://njstem.com\n",
      " Skip to content njstem::hart_lab@rutgers Menu NJSTEM.com Data Publications Posters Members Contact Blog Index NJSTEM.com Our research focus is to leverage genomic and stem cell technologies to study and solve the causes of neural injury and disease. As part of the W.M. Keck Center for Collaborative Neuroscience and the Rutgers Stem Cell Research Center , we share several collaborative projects with our colleagues. Risk gene variants in addiction disorders Beginning with a collaboration with Dr. Jay Tischfield , we built collections of human induced pluripotent stem cells (iPSC) with selected subjects from the large-scale screening for genetic variants associated with nicotine and alcohol abuse. Our current focus is on alcoholism risk variants from the COGA project. These projects are all in collaboration with Dr. Zhiping Pang of the Rutgers Child Health Institute . Our goal is to identify mechanisms in human neurons that predict optimal therapies based on specific genetic variants. Earlier work identified neuronal function differences due to a variant of the CHRNA5 gene ( Oni et al., 2016 ), associated with nicotine addiction. Another study focused on variants of the OPRM1 mu-opioid receptor genes ( Halikere et al., 2019 ). Current projects, part of the large COGA study, focus on gene variants associated with alcoholism. Genetic and toxin risk in Alzheimers Together with Dr. Jason Richardson , we have prepared iPSC from Alzheimers disease (AD) subjects carrying variants of the APOE gene, which is the greatest genetic risk factor for AD. Dr. Richardson has found that exposure to DDT or its metabolite DDE, particularly in subjects carrying the APOE 4/4 variant, compounds the risk for AD . This is a unique example of a gene x environment interaction for a major neurodegenerative disorder. Our role in the project is to using human neurons to model DDT action on APOE gene variants to stimulate AD-related mechanisms. Ataxia-telangiectasia Our recent article in the Journal of Cell Biology was introduced by a Spotlight summary . This work identifies the novel ATP/ROS sensing capacity of ATM, leading to regulation of mitochondrial function via activation of Nrf1. Based on previous collaborative projects with the laboratory of Dr. Karl Herrup ( Li et al., 2012, Nature Medicine ; Li et al., 2013, Nature Neuroscience ; Jiang et al., 2015, Brain ), we have prepared iPSC from several Ataxia-telangiectasia (A-T) subjects. Source cells for iPSC reprogramming were collected at the Ataxia-telangiectasia Clinical Center at The Johns Hopkins Hospital , under the direction of Dr. Howard Lederman . Among the A-T iPSC produced, we identified a spontaneous ATM gene reversion, providing us with an isogenic pair of iPSC lines (ATM vs. ATM + ; Lin et al., 2015 Stem Cell Reports . Our goal is to model the broad genetic diversity present in A-T patients but lacking in traditional models such as mouse knockouts. Modeling HIV-associated neurocognitive disorder (HAND) in iPSC-derived cerebral organoids. Working with Drs. Pang, Jiang, and Rabson, we have adapted cerebral organoid models to include iPSC-derived human microglia, so that these cultures may be infected with HIV virus. This was supported as a pilot project by the Rutgers Brain Health Institute . We collaborated with RUCDR Infinite Biologics to form the NIMH Stem Cell Center , a service to bank cells from subjects with mental disorders for use in creating induced pluripotent stem cells (iPSC). The Center will also create iPSC as directed by the scientific advisory board. We participate in many collaborative studies to use specific genetic background sample to prepare iPSC in the study of addiction, schizophrenia, Alzheimers disease, autism and more. Find our iPSC protocol book here . Recent Posts R Script Seurat with a Singularity Container UsingSLURM Singularity to runSeurat Seurat Chapter 2: TwoSamples Seurat Chapter 1: Analyzing SingleSamples Analysis of single-cell RNAseq data withCellrangerRkit Related Sites HGINJ-Stem Cell Program Dr. Hart's Faculty Page Dr. Hart's Google Scholar Page Dr. Hart's NCBI My Bibliography Dr. Hart's ORCID Page Dr. Hart's Research with Rutgers Page W.M. Keck Center for Collaborative Neuroscience Rutgers Stem Cell Research Center Department of Cell Biology & Neuroscience RUCDR Infinite Biologics SharePoint Site (requires login) Search Search for: Search Follow me on Twitter My Tweets NJSTEM.com Data Publications Posters Members Contact Blog Index njstem::hart_lab@rutgers Powered by WordPress.com . Privacy & Cookies: This site uses cookies. By continuing to use this website, you agree to their use. To find out more, including how to control cookies, see here: Cookie Policy Follow njstem::hart_lab@rutgers Customize Follow Sign up Log in Copy shortlink Report this content Manage subscriptions Collapse this bar \n",
      "-------------------- Scraping faculty url 14/31 --------------------\n"
     ]
    },
    {
     "name": "stdout",
     "output_type": "stream",
     "text": [
      "/research/faculty-publications\n",
      "\n",
      "-------------------- Scraping faculty url 15/31 --------------------\n",
      "https://hudalab.org/people\n",
      " Research People Techniques Two-photon imaging Quantitative mouse behavior Anatomy Publications News Opportunities HUDA LABORATORY Research People Techniques Two-photon imaging Quantitative mouse behavior Anatomy Publications News Opportunities lab members Rafiq Huda, PhD Principal Investigator Assistant Professor, W.M. Keck Center for Collaborative Neuroscience, Dept. of Cell Biology and Neuroscience, Rutgers University - New Brunswick I was born in the seaport city of Karachi in Pakistan. I immigrated to Chicago at the age of 13 and attended Senn High School. I was fortunate to win a transformative scholarship from the Posse foundation , allowing me to attend Carleton College . I majored in Biology and graduated magna cum laude with honors in 2008. That same year, I started my graduate studies with Prof. Marco Martina in the Dept. of Physiology at Northwestern University . I trained as a cellular neurophysiologist and uncovered novel molecular and cellular mechanisms for respiratory regulation by brainstem neurons and astrocytes. I started my postdoctoral work in 2014 with Prof. Mriganka Sur in the Dept. of Brain and Cognitive Sciences at MIT . There, I extended my training to systems neuroscience and advanced optical methods for analysis of neural circuits in behaving mice. My work uncovered the function of distinct prefrontal cortex output circuits in perceptual decision-making. I also collaborated with Prof. Ann Graybiel to dissect the function of distinct cell-types in the striatum in reinforcement-based learning. Email Twitter MANNY ALVAREZ Rotation Student, PhD Program in Neuroscience As a RUP-IMSD and SUPER-Grad Fellow, I am pursing a Ph.D. through the Graduate Program in Neuroscience at Robert Wood Johnson Medical School. My current research interests include deciphering the roles of the reward system and decision making in severe psychopathology. Through the Gates Millennium Scholarship, I graduated from the honors college at Rowan University with a Bachelors in psychological science and minors in biology and neuroscience. During my tenure at Rowan, under the direction of Dr. Thomas Dinzeo, I examined physiological factors that potentially underlie subclinical schizophrenia and bipolar spectrum disorders. I supplemented my undergraduate experiences with two summer research internships under the tutelage of Drs. Steven Silverstein (Rutgers University) and Amelia Eisch (University of Pennsylvania). IVAN LINARES Rotation Student, PhD Program in Neuroscience I am a Ph.D. student at the Graduate Program of Neuroscience at Rutgers University. I received my B.S. in Biology from the National Autonomous University of Mexico (UNAM) where I investigated biodiversityand behavioral Neuroscience. I earned my Biology Master's degree inDr. Fatuel TecuapetlasLabin the Molecular Neuropathology department of the Cellular Physiology Institute atUNAM. During my Master's, I investigated how neural striatal pathways modulate in the transition between sequences of actions by using in vivo calcium imaging recordings and optogenetic techniques. Currently,I am interested in how sensory information flows and transforms into a motor action selection during dynamic learning. MY NGUYEN Undergraduate Student Majoring in Cell Biology and Neuroscience, Rutgers University After finishing 4 years in medical school in Vietnam, I immigrated to the U.S. and started my journey from the beginning. In 2018, I completed my A.S. in Biomedical Science with a 4.0 GPA and was humbled to be a high honor speaker for Atlantic Cape Community Colleges graduating class that year. Through the Phi Theta Kappa Scholarship, I headed to Rutgers University to pursue my B.S. degree in Neuroscience. During my undergraduate years, I had an opportunity to present my paper about preventive therapies for Alzheimers disease in the 2019 Undergraduate Research Writing Conference. I also enjoy serving as a Co-President of Cell Biology and Neuroscience Society, the largest organization that hosts campus-wide journal meetings to discuss newest neuroscience ideas. My special interest is using advanced research techniques, such as two-photon imaging and optogenetics, to reveal distinct neural circuits associated with impaired decision-making behaviors. Sukrut Sonty Undergraduate Student Majoring in Biomedical Engineering, Rutgers University I study Biomedical Engineering as part of the Rutgers School of Engineering Honors Academy with a minor in Psychology. My research interests encompass understanding the function of pathways in the brain and the effects on them due to chronic degenerative conditions. Previously, I worked under Dr. Molly Erickson at the Department of Schizophrenia Research in Rutgers University Behavioral Healthcare. There, I used EEGs to study the effects of Schizophrenia on, for example, visual working memory. In the future, I plan on going to medical school, where I can further understand and apply concepts I have learned through my research. Back to Top \n",
      "-------------------- Scraping faculty url 16/31 --------------------\n",
      "/research/faculty-publications\n",
      "\n",
      "-------------------- Scraping faculty url 17/31 --------------------\n",
      "/research/faculty-publications\n",
      "\n",
      "-------------------- Scraping faculty url 18/31 --------------------\n",
      "/research/faculty-publications\n",
      "\n",
      "-------------------- Scraping faculty url 19/31 --------------------\n",
      "http://www.ncbi.nlm.nih.gov/pubmed/12218187\n",
      " This site needs JavaScript to work properly. Please enable it to take advantage of the complete set of features! Clipboard, Search History, and several other advanced features are temporarily unavailable. Skip to main page content COVID-19 is an emerging, rapidly evolving situation. Get the latest public health information from CDC: https://www.coronavirus.gov . Get the latest research from NIH: https://www.nih.gov/coronavirus . Find NCBI SARS-CoV-2 literature, sequence, and clinical content: https://www.ncbi.nlm.nih.gov/sars-cov-2/ . National Institutes of Health National Library of Medicine National Center for Biotechnology Information NCBI homepage Log in Show account info Close Account Logged in as: username Dashboard (My NCBI) Publications (My Bibliography) Account settings Log out Access keys NCBI Homepage MyNCBI Homepage Main Content Main Navigation Search: Search Advanced Clipboard User Guide Save Email Send to Clipboard My Bibliography Collections Citation manager Display options Display options Format Abstract PubMed PMID Save citation to file Format: Summary (text) PubMed PMID Abstract (text) CSV Create file Cancel Email citation Subject: 1 selected item: 12218187 - PubMed To: Format: Summary Summary (text) Abstract Abstract (text) Send email Cancel Add to Collections Create a new collection Add to an existing collection Name your collection: Name must be less than 100 characters Choose a collection: Unable to load your collection due to an error Please try again Add Cancel Add to My Bibliography My Bibliography Unable to load your delegates due to an error Please try again Add Cancel Your saved search Name of saved search: Search terms: Test search terms Would you like email updates of new search results? Saved Search Alert Radio Buttons Yes No Email: ( change ) Frequency: Monthly Weekly Daily Which day? The first Sunday The first Monday The first Tuesday The first Wednesday The first Thursday The first Friday The first Saturday The first day The first weekday Which day? Sunday Monday Tuesday Wednesday Thursday Friday Saturday Report format: Summary Summary (text) Abstract Abstract (text) PubMed Send at most: 1 item 5 items 10 items 20 items 50 items 100 items 200 items Send even when there aren't any new results Optional text in email: Save Cancel Create a file for external citation management software Create file Cancel Your RSS Feed Name of RSS Feed: Number of items displayed: 5 10 15 20 50 100 Create RSS Cancel RSS Link Copy Full text links HighWire Free PMC article Full-text links Actions Cite Favorites Display options Display options Format Abstract PubMed PMID Share Permalink Copy Page navigation Title & authors Abstract Figures Comment in Similar articles Cited by Publication types MeSH terms Substances Associated data Related information Grant support LinkOut - more resources Title & authors Abstract Figures Comment in Similar articles Cited by Publication types MeSH terms Substances Associated data Related information Grant support LinkOut - more resources Proc Natl Acad Sci U S A Actions Search in PubMed Search in NLM Catalog Add to Search . 2002 Oct 1;99(20):12663-8. doi: 10.1073/pnas.192445599. Epub 2002 Sep 6. The hDcp2 protein is a mammalian mRNA decapping enzyme Zuoren Wang 1 , Xinfu Jiao , Anne Carr-Schmid , Megerditch Kiledjian Affiliations Expand Affiliation 1 Department of Cell Biology and Neuroscience, Rutgers University, 604 Allison Road, Piscataway, NJ 08854-8082, USA. PMID: 12218187 PMCID: PMC130517 DOI: 10.1073/pnas.192445599 Free PMC article Item in Clipboard The hDcp2 protein is a mammalian mRNA decapping enzyme Zuoren Wang et al. Proc Natl Acad Sci U S A . 2002 . Free PMC article Show details Display options Display options Format Abstract PubMed PMID Proc Natl Acad Sci U S A Actions Search in PubMed Search in NLM Catalog Add to Search . 2002 Oct 1;99(20):12663-8. doi: 10.1073/pnas.192445599. Epub 2002 Sep 6. Authors Zuoren Wang 1 , Xinfu Jiao , Anne Carr-Schmid , Megerditch Kiledjian Affiliation 1 Department of Cell Biology and Neuroscience, Rutgers University, 604 Allison Road, Piscataway, NJ 08854-8082, USA. PMID: 12218187 PMCID: PMC130517 DOI: 10.1073/pnas.192445599 Item in Clipboard Full-text links Cite Favorites Display options Display options Format Abstract PubMed PMID Abstract Decapping of mRNA is a critical step in eukaryotic mRNA turnover, yet the proteins involved in this activity remain elusive in mammals. We identified the human Dcp2 protein (hDcp2) as an enzyme containing intrinsic decapping activity. hDcp2 specifically hydrolyzed methylated capped RNA to release m(7)GDP; however, it did not function on the cap structure alone. hDcp2 is therefore functionally distinct from the recently identified mammalian scavenger decapping enzyme, DcpS. hDcp2-mediated decapping required a functional Nudix (nucleotide diphosphate linked to an X moiety) pyrophosphatase motif as mutations in conserved amino acids within this motif disrupted the decapping activity. hDcp2 is detected exclusively in the cytoplasm and predominantly cosediments with polysomes. Consistent with the localization of hDcp2, endogenous Dcp2-like decapping activity was detected in polysomal fractions prepared from mammalian cells. Similar to decapping in yeast, the presence of the poly(A) tail was inhibitory to the endogenous decapping activity, yet unlike yeast, competition of cap-binding proteins by cap analog did not influence the efficiency of decapping. Therefore the mammalian homologue of the yeast Dcp2 protein is an mRNA decapping enzyme demonstrated to contain intrinsic decapping activity. Figures Figure 1 5 Schematic of Dcp2 proteins from Figure 1 13 Schematic of Dcp2 proteins from different organisms. Dcp2 proteins from diverse species are Figure 1 Schematic of Dcp2 proteins from different organisms. Dcp2 proteins from diverse species are schematically represented and aligned by clustalw relative to the Nudix motif. Three distinct regions of high homology are noted. An N-terminal conserved 38-aa box A, a 109-aa Nudix fold with the central 23-aa Nudix motif region, and a 20-aa box B segment are indicated (see Fig. 5). The aa position of the conserved regions within each protein is denoted above the protein schematics and the total number of amino acids in each protein is shown on the right. The degree of identity within the Nudix motif among the different Dcp2 proteins relative to the human protein is as follows: 98% with mouse (GenBank accession no. AK017809); 44% with Caenorhabditis elegans (GenBank accession no. NM_070208), 53% with Drosophila melanogaster (GenBank accession no. AE003529), 47% with Schizosaccharomyces pombe (GenBank accession no. CAB11648), and 38% with Saccharomyces cerevisiae (GenBank accession no. P53550). Figure 2 5 Recombinant hDcp2 contains intrinsic decapping Figure 2 13 Recombinant hDcp2 contains intrinsic decapping activity specific to methylated capped RNA. ( A Figure 2 Recombinant hDcp2 contains intrinsic decapping activity specific to methylated capped RNA. ( A ) In vitro decay assays were carried out by incubating 0.5 g of the indicated histidine-tagged (His-hDcp2 and His-PABP) or GST-fused (GST-hDcp2 and GST-mDAZL) recombinant proteins with cap-labeled pcP-G 16 RNA at 37C for 30 min. Reaction products were resolved by polyethyleneimine-TLC developed in 0.75 M LiCl. An aliquot of the reaction product used in lane 2 was treated with NDPK and revolved by TLC (lane 6) to confirm the original product was m 7 GDP. Standards were simultaneously developed and their positions are denoted on the left. The substrate used in the assay is schematically denoted at the bottom. The asterisks represent the position of the 32 P-labeling and the line denotes the RNA. ( B ) One microgram of each recombinant protein was separated either on a standard SDS/PAGE ( Left ) or an identical gel containing 32 P-cap-labeled pcP-G 16 RNA polymerized into the gel ( Right ). Migration of the proteins was visualized by Coomassie blue staining ( Left ). An in-gel decapping activity assay was carried out with the gel containing 32 P-labeled-capped RNA as described in Materials and Methods , and an autoradiography of the gel is shown ( Right ). Decapping of the RNA produces a clearing of the radioactive background upon release of the labeled cap substrate that diffuses out of the gel. Both the His-hDcp2 (lane 6) and GST-hDcp2 (lane 8) are capable of decapping whereas the His-PABP control (lane 7) was not. Protein size markers are shown on the left. ( C ) In vitro decay assays were carried out similar to A but used different substrates. Cap-labeled RNA lacking the N-7 methyl moiety was used in lanes 46, labeled methylated cap analog dinucleotide in lanes 79, and [- 32 P]GTP in lanes 1012. hDcp2 efficiently hydrolyzed methylated cap-labeled RNA (lanes 2 and 3) but not the other three substrates. The input substrates are shown in lanes 1, 4, 7, and 10. The recombinant protein used for the assays are indicated at the top. Figure 3 5 Significance of the hDcp2 Nudix Figure 3 13 Significance of the hDcp2 Nudix motif in decapping. In vitro decay assays were Figure 3 Significance of the hDcp2 Nudix motif in decapping. In vitro decay assays were carried out by using cap-labeled RNA and 0.5 g of the indicated recombinant protein at 37C for 30 min. Wild-type hDcp2 protein, the truncated protein lacking the C-terminal 71 aa (hDcp2 1349 ), and the double point mutation substituting glutamine for glutamic acid at amino acids 147 and 148 (hDcp2 Q147/8 ) are indicated. The resulting decapping products were resolved on TLC plates and the labeling is as described in the legend to Fig. 1. Figure 4 5 Endogenous decapping activity cosediments with Figure 4 13 Endogenous decapping activity cosediments with polysomes. ( A ) Western analysis using affinity-purified Figure 4 Endogenous decapping activity cosediments with polysomes. ( A ) Western analysis using affinity-purified antibody directed against hDcp2 was carried out. Fifty nanograms of His-hDcp2 was used in lanes 1, and extract derived from 1 10 6 K562 cells was fractionated and resolved in lanes 27 as indicated. The protein size markers are shown on the left. ( B ) An in vitro decay assay was carried out by incubating cap-labeled pcP-G 16 RNA with 30 g of the indicated K562 cell extract in the absence or presence of 100 M cap analog. The obtained products were resolved by TLC as shown in lanes 29. The products of lanes 59 were treated with NDPK and then resolved by TLC (lanes 1014). ( C ) In vitro decay assay was carried out by incubating 30 g of K562 RSW fraction with cap-labeled pcP-G 16 RNA or pcP-G 16 -A 60 RNA in the absence or presence of 500 ng of cold poly(A) competitor at 37C for 30 min. The obtained products were resolved by TLC as shown in lanes 2, 3, 5, and 6. See this image and copyright information in PMC Comment in mRNA decay enzymes: decappers conserved between yeast and mammals. Decker CJ, Parker R. Decker CJ, et al. Proc Natl Acad Sci U S A. 2002 Oct 1;99(20):12512-4. doi: 10.1073/pnas.212518099. Epub 2002 Sep 23. Proc Natl Acad Sci U S A. 2002. PMID: 12271148 Free PMC article. No abstract available. Similar articles Functional characterization of the mammalian mRNA decapping enzyme hDcp2. Piccirillo C, Khanna R, Kiledjian M. Piccirillo C, et al. RNA. 2003 Sep;9(9):1138-47. doi: 10.1261/rna.5690503. RNA. 2003. PMID: 12923261 Free PMC article. Human Dcp2: a catalytically active mRNA decapping enzyme located in specific cytoplasmic structures. van Dijk E, Cougot N, Meyer S, Babajko S, Wahle E, Sraphin B. van Dijk E, et al. EMBO J. 2002 Dec 16;21(24):6915-24. doi: 10.1093/emboj/cdf678. EMBO J. 2002. PMID: 12486012 Free PMC article. Functional analysis of mRNA scavenger decapping enzymes. Liu SW, Jiao X, Liu H, Gu M, Lima CD, Kiledjian M. Liu SW, et al. RNA. 2004 Sep;10(9):1412-22. doi: 10.1261/rna.7660804. Epub 2004 Jul 23. RNA. 2004. PMID: 15273322 Free PMC article. Regulation of mRNA decapping. Li Y, Kiledjian M. Li Y, et al. Wiley Interdiscip Rev RNA. 2010 Sep-Oct;1(2):253-65. doi: 10.1002/wrna.15. Epub 2010 May 6. Wiley Interdiscip Rev RNA. 2010. PMID: 21935889 Review. Decapping Scavenger (DcpS) enzyme: advances in its structure, activity and roles in the cap-dependent mRNA metabolism. Milac AL, Bojarska E, Wypijewska del Nogal A. Milac AL, et al. Biochim Biophys Acta. 2014 Jun;1839(6):452-62. doi: 10.1016/j.bbagrm.2014.04.007. Epub 2014 Apr 15. Biochim Biophys Acta. 2014. PMID: 24742626 Review. Show more similar articles See all similar articles Cited by 162 articles Molecular basis of the selective processing of short mRNA substrates by the DcpS mRNA decapping enzyme. Fuchs AL, Wurm JP, Neu A, Sprangers R. Fuchs AL, et al. Proc Natl Acad Sci U S A. 2020 Aug 11;117(32):19237-19244. doi: 10.1073/pnas.2009362117. Epub 2020 Jul 28. Proc Natl Acad Sci U S A. 2020. PMID: 32723815 Free PMC article. A Forward Genetic Approach to Mapping a P -Element Second Site Mutation Identifies DCP2 as a Novel Tumor Suppressor in Drosophila melanogaster . Mishra R, Kunar R, Mandal L, Alone DP, Chandrasekharan S, Tiwari AK, Tapadia MG, Mukherjee A, Roy JK. Mishra R, et al. G3 (Bethesda). 2020 Aug 5;10(8):2601-2618. doi: 10.1534/g3.120.401501. G3 (Bethesda). 2020. PMID: 32591349 Free PMC article. Fated for decay: RNA elements targeted by viral endonucleases. Rodriguez W, Macveigh-Fierro D, Miles J, Muller M. Rodriguez W, et al. Semin Cell Dev Biol. 2020 Jun 7:S1084-9521(19)30200-9. doi: 10.1016/j.semcdb.2020.05.010. Online ahead of print. Semin Cell Dev Biol. 2020. PMID: 32522410 Free PMC article. Review. Pby1 is a direct partner of the Dcp2 decapping enzyme. Charenton C, Gaudon-Plesse C, Back R, Ulryck N, Cosson L, Sraphin B, Graille M. Charenton C, et al. Nucleic Acids Res. 2020 Jun 19;48(11):6353-6366. doi: 10.1093/nar/gkaa337. Nucleic Acids Res. 2020. PMID: 32396195 Free PMC article. DIS3L2 and LSm proteins are involved in the surveillance of Sm ring-deficient snRNAs. Roithov A, Feketov Z, Vaov , Stank D. Roithov A, et al. Nucleic Acids Res. 2020 Jun 19;48(11):6184-6197. doi: 10.1093/nar/gkaa301. Nucleic Acids Res. 2020. PMID: 32374871 Free PMC article. Show more \"Cited by\" articles See all \"Cited by\" articles Publication types Research Support, U.S. Gov't, P.H.S. Actions Search in PubMed Search in MeSH Add to Search MeSH terms Amino Acid Motifs Actions Search in PubMed Search in MeSH Add to Search Binding, Competitive Actions Search in PubMed Search in MeSH Add to Search Blotting, Western Actions Search in PubMed Search in MeSH Add to Search Chromatography, Thin Layer Actions Search in PubMed Search in MeSH Add to Search Cloning, Molecular Actions Search in PubMed Search in MeSH Add to Search Cytoplasm / enzymology Actions Search in PubMed Search in MeSH Add to Search DNA, Complementary / metabolism Actions Search in PubMed Search in MeSH Add to Search Electrophoresis, Polyacrylamide Gel Actions Search in PubMed Search in MeSH Add to Search Endoribonucleases / chemistry* Actions Search in PubMed Search in MeSH Add to Search Endoribonucleases / physiology* Actions Search in PubMed Search in MeSH Add to Search Fungal Proteins / metabolism Actions Search in PubMed Search in MeSH Add to Search Fungal Proteins / physiology* Actions Search in PubMed Search in MeSH Add to Search Humans Actions Search in PubMed Search in MeSH Add to Search K562 Cells Actions Search in PubMed Search in MeSH Add to Search Molecular Sequence Data Actions Search in PubMed Search in MeSH Add to Search Plasmids / metabolism Actions Search in PubMed Search in MeSH Add to Search Poly A / metabolism Actions Search in PubMed Search in MeSH Add to Search Protein Binding Actions Search in PubMed Search in MeSH Add to Search Protein Structure, Tertiary Actions Search in PubMed Search in MeSH Add to Search Pyrophosphatases / metabolism Actions Search in PubMed Search in MeSH Add to Search RNA / metabolism Actions Search in PubMed Search in MeSH Add to Search RNA, Messenger / metabolism Actions Search in PubMed Search in MeSH Add to Search Recombinant Proteins / metabolism Actions Search in PubMed Search in MeSH Add to Search Reverse Transcriptase Polymerase Chain Reaction Actions Search in PubMed Search in MeSH Add to Search Saccharomyces cerevisiae Proteins* Actions Search in PubMed Search in MeSH Add to Search Substances DNA, Complementary Actions Search in PubMed Search in MeSH Add to Search Fungal Proteins Actions Search in PubMed Search in MeSH Add to Search RNA, Messenger Actions Search in PubMed Search in MeSH Add to Search Recombinant Proteins Actions Search in PubMed Search in MeSH Add to Search Saccharomyces cerevisiae Proteins Actions Search in PubMed Search in MeSH Add to Search Poly A Actions Search in PubMed Search in MeSH Add to Search RNA Actions Search in PubMed Search in MeSH Add to Search DCP2 protein, S cerevisiae Actions Search in PubMed Search in MeSH Add to Search Endoribonucleases Actions Search in PubMed Search in MeSH Add to Search DCP2 protein, human Actions Search in PubMed Search in MeSH Add to Search NPY1 protein, S cerevisiae Actions Search in PubMed Search in MeSH Add to Search Pyrophosphatases Actions Search in PubMed Search in MeSH Add to Search Associated data GENBANK/AY135173 Actions Search in PubMed Search in Nucleotide Related information Domains GEO Profiles Gene Gene (GeneRIF) Gene (OMIM) Gene (nucleotide/PMC) HomoloGene Nucleotide Nucleotide Nucleotide (RefSeq) Nucleotide (RefSeq) Nucleotide (Weighted) OMIM OMIM (calculated) OMIM (cited) Protein Protein (RefSeq) Protein (Weighted) Taxonomy via GenBank UniGene Grant support R01 DK051611/DK/NIDDK NIH HHS/United States DK51611/DK/NIDDK NIH HHS/United States LinkOut - more resources Full Text Sources Europe PubMed Central HighWire PubMed Central Other Literature Sources Faculty Opinions The Lens - Patent Citations Molecular Biology Databases BioCyc Research Materials Addgene Non-profit plasmid repository Miscellaneous NCI CPTAC Assay Portal Full-text links [x] HighWire Free PMC article [x] Citation text Copy Download .nbib Format: AMA MLA APA NLM Send To Clipboard Email Save My Bibliography Collections Citation Manager [x] Connect Twitter Facebook YouTube LinkedIn GitHub Blog Support Center National Center for Biotechnology Information 8600 Rockville Pike Bethesda , MD 20894 USA About us Contact us Policies FOIA Popular PubMed PubMed Central Bookshelf PubChem Gene BLAST Nucleotide Protein GEO Resources Literature Health Genomes Genes Proteins Chemicals Actions Submit Download Learn Develop Analyze Research NLM | NIH | HHS | USA.gov Feedback COVID-19 is an emerging, rapidly evolving situation. Get the latest public health information from CDC: https://www.coronavirus.gov . Get the latest research from NIH: https://www.nih.gov/coronavirus . Find NCBI SARS-CoV-2 literature, sequence, and clinical content: https://www.ncbi.nlm.nih.gov/sars-cov-2/ .\n",
      "-------------------- Scraping faculty url 20/31 --------------------\n"
     ]
    },
    {
     "name": "stdout",
     "output_type": "stream",
     "text": [
      "https://sites.google.com/view/kwan-lab-rutgers/home\n",
      "Search this site Kwan Lab @ Rutgers Home Research Publications Datasets Current Members & Alumni RU Forms Protocols Lab Jobs Lab Documents Kwan Lab @ Rutgers Home Research Publications Datasets Current Members & Alumni RU Forms Protocols Lab Jobs Lab Documents More Home Research Publications Datasets Current Members & Alumni RU Forms Protocols Lab Jobs Lab Documents Kwan Lab Our Interests The Kwan Laboratory at Rutgers is interested in regenerating spiral ganglion neurons of the vertebrate inner ear. We employ a variety of techniques including super-resolution imaging and massively parallelized sequencing methods. We are currently investigating the molecular role of chromodomain helicase DNA binding proteins during differentiation of spiral ganglion neurons. Contact Us Office (848) 445-1781 Email Kwan@dls.rutgers.edu Lab (848) 445-9552 Fax (732) 445-2063 FAQs Access Box for cloud storage Join the Kwan Lab Slack Workspace (kwanlabrutgers.slack.com) Access Kwan Lab Google Calendar Research Links Human Cell Atlas GENSAT (Gene Expression Nervous System Atlas) Rutgers CBN Imaging Core Sign-Up Animal Room Sign-Up Other Links to Kwan Lab and Associated Institutes Rutgers Department of Cell Biology & Neuroscience Keck Center for Collaborative Neuroscience Brain Health Institute Page updated Google Sites Report abuse\n",
      "-------------------- Scraping faculty url 21/31 --------------------\n",
      "/research/faculty-publications\n",
      "\n",
      "-------------------- Scraping faculty url 22/31 --------------------\n"
     ]
    }
   ],
   "source": [
    "#Scrape homepages of all urls\n",
    "bio_urls, bios = [],[]\n",
    "tot_urls = len(faculty_links)\n",
    "for i,link in enumerate(faculty_links):\n",
    "    print ('-'*20,'Scraping faculty url {}/{}'.format(i+1,tot_urls),'-'*20)\n",
    "    bio_url,bio = scrape_faculty_page(link,driver)\n",
    "    #print (bio_url)\n",
    "    if bio.strip()!= '' and bio_url.strip()!='':\n",
    "        bio_urls.append(bio_url.strip())\n",
    "        bios.append(bio)\n",
    "driver.close()"
   ]
  },
  {
   "cell_type": "code",
   "execution_count": 8,
   "metadata": {},
   "outputs": [],
   "source": [
    "def write_lst(lst,file_):\n",
    "    with open(file_,'w') as f:\n",
    "        for l in lst:\n",
    "            f.write(l)\n",
    "            f.write('\\n')"
   ]
  },
  {
   "cell_type": "code",
   "execution_count": 9,
   "metadata": {},
   "outputs": [],
   "source": [
    "bio_urls_file = '../bio_urls.txt'\n",
    "bios_file = '../bios.txt'\n",
    "write_lst(bio_urls,bio_urls_file)\n",
    "write_lst(bios,bios_file)"
   ]
  },
  {
   "cell_type": "code",
   "execution_count": null,
   "metadata": {},
   "outputs": [],
   "source": []
  }
 ],
 "metadata": {
  "kernelspec": {
   "display_name": "Python 3",
   "language": "python",
   "name": "python3"
  },
  "language_info": {
   "codemirror_mode": {
    "name": "ipython",
    "version": 3
   },
   "file_extension": ".py",
   "mimetype": "text/x-python",
   "name": "python",
   "nbconvert_exporter": "python",
   "pygments_lexer": "ipython3",
   "version": "3.8.3"
  }
 },
 "nbformat": 4,
 "nbformat_minor": 4
}
